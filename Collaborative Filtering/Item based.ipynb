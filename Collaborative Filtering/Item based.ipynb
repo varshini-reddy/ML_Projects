{
 "cells": [
  {
   "cell_type": "code",
   "execution_count": 2,
   "metadata": {},
   "outputs": [],
   "source": [
    "#importing neccesary packages\n",
    "import pandas as pd \n",
    "import numpy as np\n",
    "import warnings\n",
    "warnings.filterwarnings('ignore')\n",
    "from tqdm import tqdm"
   ]
  },
  {
   "cell_type": "markdown",
   "metadata": {},
   "source": [
    "# Importing Training and Test Data"
   ]
  },
  {
   "cell_type": "code",
   "execution_count": 49,
   "metadata": {
    "scrolled": false
   },
   "outputs": [
    {
     "name": "stdout",
     "output_type": "stream",
     "text": [
      "<class 'pandas.core.frame.DataFrame'>\n",
      "RangeIndex: 80000 entries, 0 to 79999\n",
      "Data columns (total 4 columns):\n",
      " #   Column     Non-Null Count  Dtype\n",
      "---  ------     --------------  -----\n",
      " 0   user_id    80000 non-null  int64\n",
      " 1   movie_id   80000 non-null  int64\n",
      " 2   rating     80000 non-null  int64\n",
      " 3   timestamp  80000 non-null  int64\n",
      "dtypes: int64(4)\n",
      "memory usage: 2.4 MB\n"
     ]
    }
   ],
   "source": [
    "#Reading movielens data from \n",
    "\n",
    "columns_names = [\"user_id\",\"movie_id\",\"rating\",\"timestamp\"]\n",
    "train = pd.read_csv(\"ml-100k/u5.base\",sep = '\\t',names = columns_names)\n",
    "test = pd.read_csv(\"ml-100k/u5.test\",sep = '\\t',names = columns_names)\n",
    "train.info()"
   ]
  },
  {
   "cell_type": "markdown",
   "metadata": {},
   "source": [
    "# Pivot Table"
   ]
  },
  {
   "cell_type": "code",
   "execution_count": 55,
   "metadata": {},
   "outputs": [],
   "source": [
    "movie_matrix=np.zeros((1682,943))\n",
    "total = len(train)\n",
    "for i in range (total):\n",
    "    u_id = train[\"user_id\"][i]-1\n",
    "    m_id = train[\"movie_id\"][i]-1\n",
    "    rating= train[\"rating\"][i]\n",
    "    movie_matrix[m_id][u_id]= rating\n",
    "    "
   ]
  },
  {
   "cell_type": "code",
   "execution_count": 39,
   "metadata": {},
   "outputs": [
    {
     "data": {
      "text/plain": [
       "(1682, 943)"
      ]
     },
     "execution_count": 39,
     "metadata": {},
     "output_type": "execute_result"
    }
   ],
   "source": [
    "movie_matrix.shape\n"
   ]
  },
  {
   "cell_type": "markdown",
   "metadata": {},
   "source": [
    "# Similarity Matrix"
   ]
  },
  {
   "cell_type": "code",
   "execution_count": 56,
   "metadata": {
    "scrolled": false
   },
   "outputs": [
    {
     "data": {
      "text/plain": [
       "(1682, 1682)"
      ]
     },
     "execution_count": 56,
     "metadata": {},
     "output_type": "execute_result"
    }
   ],
   "source": [
    "from sklearn.metrics.pairwise import cosine_similarity\n",
    "similarity_matrix = cosine_similarity(movie_matrix)\n",
    "similarity_matrix.shape"
   ]
  },
  {
   "cell_type": "markdown",
   "metadata": {},
   "source": [
    "# Computing Ratings for the given User -Training and Testing"
   ]
  },
  {
   "cell_type": "code",
   "execution_count": 72,
   "metadata": {
    "scrolled": false
   },
   "outputs": [
    {
     "name": "stderr",
     "output_type": "stream",
     "text": [
      "100%|██████████| 20000/20000 [00:28<00:00, 692.27it/s]\n",
      "100%|██████████| 20000/20000 [00:28<00:00, 702.87it/s]\n",
      "100%|██████████| 20000/20000 [00:27<00:00, 725.35it/s]\n",
      "100%|██████████| 20000/20000 [00:27<00:00, 726.21it/s]\n"
     ]
    }
   ],
   "source": [
    "\n",
    "K=[10,20,30,40]\n",
    "MAE=[]\n",
    "for k in K:\n",
    "    mae=0\n",
    "    num_users=0\n",
    "    for i in tqdm(range(len(test))):\n",
    "        \n",
    "        u_id = test[\"user_id\"][i]-1\n",
    "        m_id = test[\"movie_id\"][i]-1\n",
    "        actual_rating= test[\"rating\"][i]\n",
    "        \n",
    "        predicted_rating=0\n",
    "        total_sim=0\n",
    "        similarity=[]\n",
    "        rating=[]\n",
    "        movie=[]\n",
    "        \n",
    "        for j in range(1682):\n",
    "            if(j==m_id):\n",
    "                continue\n",
    "            if(movie_matrix[j][u_id]==0):\n",
    "                continue\n",
    "            similarity.append(similarity_matrix[j][m_id])\n",
    "            rating.append(movie_matrix[j][u_id]) \n",
    "            \n",
    "        top_k=sorted(range(len(similarity)), key=lambda i: similarity[i])[-k:]\n",
    "        \n",
    "        for p in top_k:\n",
    "            predicted_rating+=rating[p]*similarity[p]\n",
    "            total_sim += similarity[p]\n",
    "            \n",
    "        if total_sim != 0:\n",
    "            #print(rating)\n",
    "            mae += abs(actual_rating-(predicted_rating/total_sim))\n",
    "            num_users+=1\n",
    "        else:\n",
    "            continue\n",
    "            \n",
    "    mae/=num_users\n",
    "    MAE.append(mae)  "
   ]
  },
  {
   "cell_type": "code",
   "execution_count": 58,
   "metadata": {
    "scrolled": false
   },
   "outputs": [
    {
     "data": {
      "text/plain": [
       "[0.7612224165709063,\n",
       " 0.7643593168820328,\n",
       " 0.7715358298339332,\n",
       " 0.7777421083064774]"
      ]
     },
     "execution_count": 58,
     "metadata": {},
     "output_type": "execute_result"
    }
   ],
   "source": [
    "MAE"
   ]
  },
  {
   "cell_type": "code",
   "execution_count": 74,
   "metadata": {},
   "outputs": [
    {
     "data": {
      "text/plain": [
       "[0.7612224165709063,\n",
       " 0.7643593168820328,\n",
       " 0.7715358298339332,\n",
       " 0.7777421083064774]"
      ]
     },
     "execution_count": 74,
     "metadata": {},
     "output_type": "execute_result"
    }
   ],
   "source": [
    "MAE"
   ]
  }
 ],
 "metadata": {
  "kernelspec": {
   "display_name": "Python 3",
   "language": "python",
   "name": "python3"
  },
  "language_info": {
   "codemirror_mode": {
    "name": "ipython",
    "version": 3
   },
   "file_extension": ".py",
   "mimetype": "text/x-python",
   "name": "python",
   "nbconvert_exporter": "python",
   "pygments_lexer": "ipython3",
   "version": "3.8.3"
  }
 },
 "nbformat": 4,
 "nbformat_minor": 4
}
