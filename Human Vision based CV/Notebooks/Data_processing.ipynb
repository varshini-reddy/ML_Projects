{
 "cells": [
  {
   "cell_type": "code",
   "execution_count": 43,
   "id": "bf353f58",
   "metadata": {},
   "outputs": [],
   "source": [
    "import os\n",
    "import re\n",
    "import numpy as np\n",
    "from os import walk\n",
    "import pandas as pd\n",
    "from PIL import Image\n",
    "import matplotlib.pyplot as plt\n",
    "from sklearn.model_selection import train_test_split\n"
   ]
  },
  {
   "cell_type": "code",
   "execution_count": 12,
   "id": "7aa8e60b",
   "metadata": {
    "scrolled": true
   },
   "outputs": [
    {
     "data": {
      "text/html": [
       "<div>\n",
       "<style scoped>\n",
       "    .dataframe tbody tr th:only-of-type {\n",
       "        vertical-align: middle;\n",
       "    }\n",
       "\n",
       "    .dataframe tbody tr th {\n",
       "        vertical-align: top;\n",
       "    }\n",
       "\n",
       "    .dataframe thead th {\n",
       "        text-align: right;\n",
       "    }\n",
       "</style>\n",
       "<table border=\"1\" class=\"dataframe\">\n",
       "  <thead>\n",
       "    <tr style=\"text-align: right;\">\n",
       "      <th></th>\n",
       "      <th>filename</th>\n",
       "      <th>label</th>\n",
       "    </tr>\n",
       "  </thead>\n",
       "  <tbody>\n",
       "    <tr>\n",
       "      <th>0</th>\n",
       "      <td>/Data/CLS-LOC/val/ILSVRC2012_val_00023660.JPEG</td>\n",
       "      <td>934</td>\n",
       "    </tr>\n",
       "    <tr>\n",
       "      <th>1</th>\n",
       "      <td>/Data/CLS-LOC/val/ILSVRC2012_val_00019072.JPEG</td>\n",
       "      <td>693</td>\n",
       "    </tr>\n",
       "    <tr>\n",
       "      <th>2</th>\n",
       "      <td>/Data/CLS-LOC/val/ILSVRC2012_val_00018164.JPEG</td>\n",
       "      <td>424</td>\n",
       "    </tr>\n",
       "    <tr>\n",
       "      <th>3</th>\n",
       "      <td>/Data/CLS-LOC/val/ILSVRC2012_val_00019179.JPEG</td>\n",
       "      <td>404</td>\n",
       "    </tr>\n",
       "    <tr>\n",
       "      <th>4</th>\n",
       "      <td>/Data/CLS-LOC/val/ILSVRC2012_val_00025793.JPEG</td>\n",
       "      <td>132</td>\n",
       "    </tr>\n",
       "  </tbody>\n",
       "</table>\n",
       "</div>"
      ],
      "text/plain": [
       "                                         filename  label\n",
       "0  /Data/CLS-LOC/val/ILSVRC2012_val_00023660.JPEG    934\n",
       "1  /Data/CLS-LOC/val/ILSVRC2012_val_00019072.JPEG    693\n",
       "2  /Data/CLS-LOC/val/ILSVRC2012_val_00018164.JPEG    424\n",
       "3  /Data/CLS-LOC/val/ILSVRC2012_val_00019179.JPEG    404\n",
       "4  /Data/CLS-LOC/val/ILSVRC2012_val_00025793.JPEG    132"
      ]
     },
     "execution_count": 12,
     "metadata": {},
     "output_type": "execute_result"
    }
   ],
   "source": [
    "df = pd.read_csv(\"ILSVRC2012_val_labels.txt\")\n",
    "df.head()"
   ]
  },
  {
   "cell_type": "code",
   "execution_count": 30,
   "id": "89637780",
   "metadata": {},
   "outputs": [],
   "source": [
    "fnames = [str(i)[18:] for i in df['filename']]\n",
    "df['filename'] = fnames"
   ]
  },
  {
   "cell_type": "code",
   "execution_count": 75,
   "id": "852b92ad",
   "metadata": {},
   "outputs": [],
   "source": [
    "# image_files = np.array(os.listdir(\"ILSVRC2012_img_val\"))\n",
    "# np.random.shuffle(image_files)\n",
    "# num_images = len(image_files)\n",
    "# train_image_idx = np.random.choice(range(num_images), size=int(num_images*0.7))\n",
    "# test_image_idx = [i for i in range(num_images) if i not in train_image_idx]\n",
    "\n",
    "\n",
    "# train_data_images = []\n",
    "# train_labels = []\n",
    "\n",
    "# path = \"ILSVRC2012_img_val/\"\n",
    "# for i in train_image_idx:\n",
    "#     img = Image.open(path+str(image_files[i]))\n",
    "#     img = np.array(img.resize(size=(224,224)))\n",
    "#     train_data_images.append(img)\n",
    "#     train_labels.append(df.label[df.filename==image_files[i]])\n",
    "\n"
   ]
  },
  {
   "cell_type": "code",
   "execution_count": 83,
   "id": "a3f703ed",
   "metadata": {},
   "outputs": [],
   "source": [
    "# CREATE TRAIN DATA FOLDERS\n",
    "train_path = \"/Users/varshini/Desktop/HARVARD/SPRING'22/MIT6.819-Advances in Computer Vision/Project/Train_Data/\"\n",
    "for i in range(1000):\n",
    "    cur_path = train_path + str(i)\n",
    "    if not os.path.exists(cur_path):\n",
    "        os.mkdir(cur_path)\n",
    "\n"
   ]
  },
  {
   "cell_type": "code",
   "execution_count": 84,
   "id": "8824c875",
   "metadata": {},
   "outputs": [],
   "source": [
    "# CREATE TEST DATA FOLDERS\n",
    "test_path = \"/Users/varshini/Desktop/HARVARD/SPRING'22/MIT6.819-Advances in Computer Vision/Project/Test_Data/\"\n",
    "for i in range(1000):\n",
    "    cur_path = test_path + str(i)\n",
    "    if not os.path.exists(cur_path):\n",
    "        os.mkdir(cur_path)\n",
    "        "
   ]
  },
  {
   "cell_type": "code",
   "execution_count": 95,
   "id": "55fa1769",
   "metadata": {},
   "outputs": [],
   "source": [
    "train_path = \"/Users/varshini/Desktop/HARVARD/SPRING'22/MIT6.819-Advances in Computer Vision/Project/Train_Data/\"\n",
    "path = \"/Users/varshini/Desktop/HARVARD/SPRING'22/MIT6.819-Advances in Computer Vision/Project/ILSVRC2012_img_val/\"\n",
    "for i in os.listdir(\"ILSVRC2012_img_val\"):\n",
    "    temp_path = str(df['label'][df.filename==i].values[0])\n",
    "    new_path = train_path+temp_path+\"/\"+str(i)\n",
    "    \n",
    "    cur_path = path + str(i)\n",
    "    \n",
    "    os.rename(cur_path, new_path)\n",
    "\n",
    "    "
   ]
  },
  {
   "cell_type": "code",
   "execution_count": null,
   "id": "2694cf0a",
   "metadata": {},
   "outputs": [],
   "source": []
  }
 ],
 "metadata": {
  "kernelspec": {
   "display_name": "Python 3 (ipykernel)",
   "language": "python",
   "name": "python3"
  },
  "language_info": {
   "codemirror_mode": {
    "name": "ipython",
    "version": 3
   },
   "file_extension": ".py",
   "mimetype": "text/x-python",
   "name": "python",
   "nbconvert_exporter": "python",
   "pygments_lexer": "ipython3",
   "version": "3.9.10"
  }
 },
 "nbformat": 4,
 "nbformat_minor": 5
}
