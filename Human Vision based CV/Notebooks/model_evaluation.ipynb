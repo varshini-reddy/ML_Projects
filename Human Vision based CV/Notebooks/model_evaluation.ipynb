{
 "cells": [
  {
   "cell_type": "code",
   "execution_count": null,
   "id": "0a0e835f",
   "metadata": {},
   "outputs": [],
   "source": [
    "import pandas as pd\n",
    "import numpy as np\n",
    "import pickle\n",
    "import re\n",
    "import os.path\n",
    "import sys\n",
    "import tensorflow as tf\n",
    "import tensorflow_addons as tfa\n",
    "import matplotlib.pyplot as plt\n",
    "import tensorflow_datasets as tfds\n",
    "from tensorflow.keras.layers import Conv2D, BatchNormalization, MaxPool2D, Dense, Flatten, Dropout\n",
    "from tensorflow.keras.layers import Input, Concatenate, InputLayer\n",
    "from tensorflow.keras.models import Sequential, Model\n",
    "from tensorflow.keras.preprocessing.image import ImageDataGenerator\n",
    "import warnings \n",
    "warnings.filterwarnings('always')\n",
    "# Helper code files\n",
    "\n",
    "sys.path.append('../')\n",
    "from Utils.utils import get_dataset, get_original_architecture\n",
    "from Utils.utils import get_alternate_architecture, set_model_weights, adversarial_examples\n",
    "from Utils.adv_gen import adversarial_examples\n"
   ]
  },
  {
   "cell_type": "code",
   "execution_count": null,
   "id": "a3aa622b",
   "metadata": {},
   "outputs": [],
   "source": [
    "# Global Variables\n",
    "input_shape = (224, 224, 3)\n",
    "num_classes = 1000\n",
    "batch_size = 64\n"
   ]
  },
  {
   "cell_type": "code",
   "execution_count": null,
   "id": "df24d203",
   "metadata": {},
   "outputs": [],
   "source": [
    "# GET ALL MODELS\n",
    "\n",
    "# # ORIGINAL ARCHITECTURE OF VGG\n",
    "# model = get_original_architecture()\n",
    "\n",
    "# # Set model weights and as trainable or not\n",
    "# original_model = set_model_weights(model, \"original\")\n",
    "\n",
    "# ALTERED ARCHITECTURE OF VGG FOR BLURRING\n",
    "if os.path.isfile(\"Model Weights/blur_model_weights.h5\"):\n",
    "    blur_model = get_alternate_architecture()\n",
    "    blur_model.load_weights(\"Model Weights/blur_model_weights.h5\")\n",
    "    print(\"Updating existing weights\")\n",
    "    \n",
    "else:\n",
    "    model = get_alternate_architecture()\n",
    "    blur_model = set_model_weights(model, \"blur\")\n",
    "    del model\n",
    "    print(\"Setting up a new model\")\n",
    "# ALTERED ARCHITECTURE OF VGG\n",
    "# model = get_alternate_architecture(\"alternate_architecture\")\n",
    "# alt_model = set_model_weights(model, \"blur\")\n",
    "\n"
   ]
  },
  {
   "cell_type": "code",
   "execution_count": null,
   "id": "2f744451",
   "metadata": {},
   "outputs": [],
   "source": [
    "# Get the train and test data generators\n",
    "test_data = get_dataset(batch_size, True)\n"
   ]
  },
  {
   "cell_type": "code",
   "execution_count": null,
   "id": "79af6873-e670-44b0-947d-6c51b8441c7d",
   "metadata": {},
   "outputs": [],
   "source": [
    "def create_dataset(generator, train_type='blur'):\n",
    "    \n",
    "    if train_type=='blur':\n",
    "        t1 = tf.convert_to_tensor(generator[0], dtype=tf.float32)\n",
    "        t2 = tf.convert_to_tensor(generator[1], dtype=tf.float32)\n",
    "        t3 = tf.convert_to_tensor(generator[2], dtype=tf.float32)\n",
    "        t4 = tf.convert_to_tensor(generator[3], dtype=tf.float32)\n",
    "        t5 = tf.convert_to_tensor(generator[4], dtype=tf.float32)\n",
    "        \n",
    "    else:\n",
    "        t1 = t2 = t3 = t4 = t5 = tf.convert_to_tensor(generator[0], dtype=tf.float32)\n",
    "\n",
    "    return (t1,t2,t3,t4,t5)\n",
    "        "
   ]
  },
  {
   "cell_type": "code",
   "execution_count": null,
   "id": "734519fe-08a8-422a-b5b3-d919e37d1de6",
   "metadata": {},
   "outputs": [],
   "source": [
    "train_data = get_dataset(batch_size, True)\n",
    "\n",
    "# t1 = train_data[0].next()\n",
    "        \n",
    "# generator = (t1[0], train_data[1].next()[0], train_data[2].next()[0], train_data[3].next()[0],\n",
    "#             train_data[4].next()[0])\n",
    "\n",
    "# label = t1[1]\n"
   ]
  },
  {
   "cell_type": "code",
   "execution_count": null,
   "id": "7ee4f43d-c73c-44a0-9335-45125fe783cb",
   "metadata": {},
   "outputs": [],
   "source": [
    "# TO PLOT BLURRED IMAGE VERSIONS\n",
    "# l = []\n",
    "# l.append(train_data[0].next()[0][0])\n",
    "# l.append(train_data[1].next()[0][0])\n",
    "# l.append(train_data[2].next()[0][0])\n",
    "# l.append(train_data[3].next()[0][0])\n",
    "# l.append(train_data[4].next()[0][0])\n",
    "\n",
    "\n",
    "# fig, ax = plt.subplots(1,5, figsize=(25,15))\n",
    "# ax = ax.flatten()\n",
    "# l = np.asarray(l)\n",
    "# for i in range(5):\n",
    "#     ax[i].imshow(l[i])\n",
    "#     ax[i].set_xticks([])\n",
    "#     ax[i].set_yticks([])\n",
    "# # plt.savefig('../Documentation/Plots/blurred_2.png', format='png', dpi=1200, transparent=True)\n"
   ]
  },
  {
   "cell_type": "code",
   "execution_count": null,
   "id": "5a5cf259-38aa-40ac-a3aa-1cdbd9fd948a",
   "metadata": {},
   "outputs": [],
   "source": [
    "blur_model.compile(loss='categorical_crossentropy', metrics='accuracy', \n",
    "                   optimizer=tf.keras.optimizers.Adam(learning_rate=0.01))\n",
    "\n",
    "blur_model.evaluate(generator, label)\n"
   ]
  },
  {
   "cell_type": "code",
   "execution_count": null,
   "id": "bde3178c-1be0-4a7b-bd9a-79c0e1840e19",
   "metadata": {},
   "outputs": [],
   "source": [
    "model = get_original_architecture()\n",
    "\n",
    "# Set model weights and as trainable or not\n",
    "original_model = set_model_weights(model, \"original\")\n"
   ]
  },
  {
   "cell_type": "code",
   "execution_count": null,
   "id": "a3754849-a963-446a-ae90-cd665b4e4313",
   "metadata": {},
   "outputs": [],
   "source": [
    "original_model.compile(loss='categorical_crossentropy', metrics='accuracy', \n",
    "                   optimizer=tf.keras.optimizers.Adam(learning_rate=0.01))\n",
    "\n",
    "original_model.evaluate(t1[0], label)"
   ]
  },
  {
   "cell_type": "code",
   "execution_count": null,
   "id": "d84c7cef-7a45-4fef-b61e-fe534ca56c7a",
   "metadata": {},
   "outputs": [],
   "source": []
  }
 ],
 "metadata": {
  "kernelspec": {
   "display_name": "ds",
   "language": "python",
   "name": "ds"
  },
  "language_info": {
   "codemirror_mode": {
    "name": "ipython",
    "version": 3
   },
   "file_extension": ".py",
   "mimetype": "text/x-python",
   "name": "python",
   "nbconvert_exporter": "python",
   "pygments_lexer": "ipython3",
   "version": "3.9.12"
  }
 },
 "nbformat": 4,
 "nbformat_minor": 5
}
