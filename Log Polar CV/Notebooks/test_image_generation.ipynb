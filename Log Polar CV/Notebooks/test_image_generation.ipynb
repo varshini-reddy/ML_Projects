{
 "cells": [
  {
   "cell_type": "code",
   "execution_count": 4,
   "id": "5f333182-d385-4894-bbb6-2659d3f5df21",
   "metadata": {},
   "outputs": [],
   "source": [
    "import pandas as pd\n",
    "import numpy as np\n",
    "import PIL\n",
    "import tensorflow as tf\n",
    "import tensorflow_addons as tfa\n",
    "from tensorflow.keras.preprocessing.image import ImageDataGenerator\n",
    "import matplotlib.pyplot as plt\n",
    "from tensorflow.keras.preprocessing import image\n",
    "import json\n",
    "from PIL import Image\n"
   ]
  },
  {
   "cell_type": "code",
   "execution_count": 5,
   "id": "daab1dd8-9da2-4c50-bf9b-29ad9811bf35",
   "metadata": {},
   "outputs": [],
   "source": [
    "counter = 0\n",
    "path = \"../Data/test_data/\"\n",
    "test_labels_dict = {}\n"
   ]
  },
  {
   "cell_type": "code",
   "execution_count": 6,
   "id": "24f4995e-607a-4fc6-8512-081d4e22e629",
   "metadata": {},
   "outputs": [],
   "source": [
    "split = 0.99\n",
    "subset = 'training'\n",
    "batch_size = 100\n",
    "random_seed = 10\n",
    "\n",
    "rotate_images = lambda input_images : tfa.image.rotate(input_images, fill_mode='constant',\n",
    "                                                       angles=np.random.choice([45, 90, 135]))\n",
    "\n",
    "shear_images = lambda input_images : image.random_shear(input_images, \n",
    "                                                                intensity=np.random.choice(np.linspace(10,800,8)),\n",
    "                                                                row_axis=0, col_axis=1, channel_axis=2,\n",
    "                                                                fill_mode='constant')\n",
    "\n",
    "translate_images = lambda input_images : image.apply_affine_transform(input_images, \n",
    "                                                                    tx = np.random.choice(range(10,100)),\n",
    "                                                                    ty = np.random.choice(range(10,100)),\n",
    "                                                                    fill_mode='constant')\n",
    "\n",
    "\n",
    "mixed_images = lambda input_images : image.apply_affine_transform(input_images, \n",
    "                                                                  theta = np.random.choice([45, 90, 135]),\n",
    "                                                                  tx = np.random.choice(range(10,100)),\n",
    "                                                                  ty = np.random.choice(range(10,100)),\n",
    "                                                                  shear = np.random.choice(np.linspace(10,800,8)),\n",
    "                                                                  row_axis=0, col_axis=1, channel_axis=2,\n",
    "                                                                  )\n",
    "\n",
    "    \n",
    "datagen1 = ImageDataGenerator(validation_split=split,rescale=1./255,\n",
    "                                  preprocessing_function=rotate_images)\n",
    "\n",
    "datagen2 = ImageDataGenerator(validation_split=split,rescale=1./255,\n",
    "                                  preprocessing_function=translate_images)\n",
    "\n",
    "datagen3 = ImageDataGenerator(validation_split=split,rescale=1./255,\n",
    "                                  preprocessing_function=shear_images)\n",
    "\n",
    "datagen4 = ImageDataGenerator(validation_split=split,rescale=1./255,\n",
    "                                  preprocessing_function=mixed_images)\n",
    "\n",
    "datagen5 = ImageDataGenerator(validation_split=split,rescale=1./255)\n",
    "    \n",
    "directory = \"/Users/varshini/Desktop/HARVARD/SPRING'22/MIT9.60-Human Vision/Project/Data/Image_Data\"\n"
   ]
  },
  {
   "cell_type": "code",
   "execution_count": 7,
   "id": "8bd70329-5cc9-4663-8f86-bb22b496a1d7",
   "metadata": {},
   "outputs": [
    {
     "name": "stdout",
     "output_type": "stream",
     "text": [
      "Found 1000 images belonging to 1000 classes.\n",
      "Found 1000 images belonging to 1000 classes.\n",
      "Found 1000 images belonging to 1000 classes.\n",
      "Found 1000 images belonging to 1000 classes.\n",
      "Found 1000 images belonging to 1000 classes.\n",
      "Metal device set to: Apple M1 Pro\n"
     ]
    },
    {
     "name": "stderr",
     "output_type": "stream",
     "text": [
      "2022-05-04 21:39:47.924835: I tensorflow/core/common_runtime/pluggable_device/pluggable_device_factory.cc:305] Could not identify NUMA node of platform GPU ID 0, defaulting to 0. Your kernel may not have been built with NUMA support.\n",
      "2022-05-04 21:39:47.924966: I tensorflow/core/common_runtime/pluggable_device/pluggable_device_factory.cc:271] Created TensorFlow device (/job:localhost/replica:0/task:0/device:GPU:0 with 0 MB memory) -> physical PluggableDevice (device: 0, name: METAL, pci bus id: <undefined>)\n"
     ]
    }
   ],
   "source": [
    "train_data1 = datagen1.flow_from_directory(\n",
    "    directory,target_size=(224, 224),\n",
    "    color_mode='rgb', class_mode='categorical',\n",
    "    batch_size=batch_size, shuffle=True,\n",
    "    seed=random_seed, subset=subset\n",
    ")\n",
    "\n",
    "train_data2 = datagen2.flow_from_directory(\n",
    "    directory,target_size=(224, 224),\n",
    "    color_mode='rgb', class_mode='categorical',\n",
    "    batch_size=batch_size, shuffle=True,\n",
    "    seed=random_seed, subset=subset\n",
    ")\n",
    "\n",
    "train_data3 = datagen3.flow_from_directory(\n",
    "    directory,target_size=(224, 224),\n",
    "    color_mode='rgb', class_mode='categorical',\n",
    "    batch_size=batch_size, shuffle=True,\n",
    "    seed=random_seed, subset=subset\n",
    ")\n",
    "\n",
    "train_data4 = datagen4.flow_from_directory(\n",
    "    directory,target_size=(224, 224),\n",
    "    color_mode='rgb', class_mode='categorical',\n",
    "    batch_size=batch_size, shuffle=True,\n",
    "    seed=random_seed, subset=subset\n",
    ")\n",
    "\n",
    "train_data5 = datagen5.flow_from_directory(\n",
    "    directory,target_size=(224, 224),\n",
    "    color_mode='rgb', class_mode='categorical',\n",
    "    batch_size=batch_size, shuffle=True,\n",
    "    seed=random_seed, subset=subset\n",
    ")\n",
    "\n",
    "\n",
    "x1 = train_data1.next()\n",
    "\n",
    "for i in range(2):\n",
    "    x2 = train_data2.next()\n",
    "    \n",
    "for i in range(3):\n",
    "    x3 = train_data3.next()\n",
    "    \n",
    "for i in range(4):\n",
    "    x4 = train_data4.next()\n",
    "    \n",
    "for i in range(5):\n",
    "    x5 = train_data5.next()\n",
    "    "
   ]
  },
  {
   "cell_type": "code",
   "execution_count": 13,
   "id": "06699bcf-32ab-4a7e-a16a-e666ef79074f",
   "metadata": {},
   "outputs": [],
   "source": [
    "f = open('imagenet_label_mapping.json')\n",
    " \n",
    "label_mapping = json.load(f)\n",
    "f.close()\n"
   ]
  },
  {
   "cell_type": "code",
   "execution_count": 27,
   "id": "be9af80c-2d51-4fe9-ad24-83d17eb6a794",
   "metadata": {},
   "outputs": [],
   "source": [
    "x1_labels = [label_mapping[str(np.where(x1[1][i,:]!=0)[0][0])] for i in range(batch_size)] \n",
    "x2_labels = [label_mapping[str(np.where(x2[1][i,:]!=0)[0][0])] for i in range(batch_size)] \n",
    "x3_labels = [label_mapping[str(np.where(x3[1][i,:]!=0)[0][0])] for i in range(batch_size)] \n",
    "x4_labels = [label_mapping[str(np.where(x4[1][i,:]!=0)[0][0])] for i in range(batch_size)] \n"
   ]
  },
  {
   "cell_type": "code",
   "execution_count": 39,
   "id": "12a65628-561d-4a84-9da2-59b05e451cae",
   "metadata": {},
   "outputs": [],
   "source": [
    "inter_list =[]\n",
    "inter_list.extend(x1_labels)\n",
    "inter_list.extend(x2_labels)\n",
    "inter_list.extend(x3_labels)\n",
    "inter_list.extend(x4_labels)\n",
    "\n",
    "inter_list = np.array(inter_list)\n",
    "l = np.random.choice(inter_list, size=128)"
   ]
  },
  {
   "cell_type": "code",
   "execution_count": 40,
   "id": "a7b684b3-755d-4734-8780-865f4bd5f30b",
   "metadata": {},
   "outputs": [],
   "source": [
    "df = pd.DataFrame(l)"
   ]
  },
  {
   "cell_type": "code",
   "execution_count": 41,
   "id": "d92b9da6-f050-4ff1-a0ba-2450d0e65178",
   "metadata": {},
   "outputs": [],
   "source": [
    "df.to_csv(\"test.csv\", index=False)"
   ]
  },
  {
   "cell_type": "code",
   "execution_count": 32,
   "id": "5b281200-55a4-4e40-99d8-7bfda39c4373",
   "metadata": {},
   "outputs": [
    {
     "ename": "TypeError",
     "evalue": "write() argument must be str, not numpy.ndarray",
     "output_type": "error",
     "traceback": [
      "\u001b[0;31m---------------------------------------------------------------------------\u001b[0m",
      "\u001b[0;31mTypeError\u001b[0m                                 Traceback (most recent call last)",
      "Input \u001b[0;32mIn [32]\u001b[0m, in \u001b[0;36m<cell line: 1>\u001b[0;34m()\u001b[0m\n\u001b[1;32m      1\u001b[0m \u001b[38;5;28;01mwith\u001b[39;00m \u001b[38;5;28mopen\u001b[39m(\u001b[38;5;124m\"\u001b[39m\u001b[38;5;124mtemp.txt\u001b[39m\u001b[38;5;124m\"\u001b[39m,\u001b[38;5;124m\"\u001b[39m\u001b[38;5;124mw\u001b[39m\u001b[38;5;124m\"\u001b[39m) \u001b[38;5;28;01mas\u001b[39;00m f:\n\u001b[0;32m----> 2\u001b[0m     \u001b[43mf\u001b[49m\u001b[38;5;241;43m.\u001b[39;49m\u001b[43mwrite\u001b[49m\u001b[43m(\u001b[49m\u001b[43mclasses\u001b[49m\u001b[43m)\u001b[49m\n",
      "\u001b[0;31mTypeError\u001b[0m: write() argument must be str, not numpy.ndarray"
     ]
    }
   ],
   "source": [
    "with open(\"temp.txt\",\"w\") as f:\n",
    "    f.write(classes)\n",
    "    "
   ]
  },
  {
   "cell_type": "code",
   "execution_count": 61,
   "id": "790fac33-ae6e-4dc0-8306-a1841f8d8e4c",
   "metadata": {},
   "outputs": [],
   "source": [
    "# for bs in range(batch_size):\n",
    "#     sub_path = str(counter)+\".png\"\n",
    "#     plt.imsave(path+sub_path, x4[0][bs,...])\n",
    "#     test_labels_dict[sub_path] = x4_labels[bs]\n",
    "#     counter+=1\n",
    "    "
   ]
  },
  {
   "cell_type": "code",
   "execution_count": 62,
   "id": "26077776-6087-40ea-85e3-f99c7c0c2cf9",
   "metadata": {},
   "outputs": [],
   "source": [
    "# with open(\"../Data/test_data_labels.json\", \"w\") as outfile:\n",
    "#     json.dump(test_labels_dict, outfile)\n",
    "    "
   ]
  }
 ],
 "metadata": {
  "kernelspec": {
   "display_name": "ds",
   "language": "python",
   "name": "ds"
  },
  "language_info": {
   "codemirror_mode": {
    "name": "ipython",
    "version": 3
   },
   "file_extension": ".py",
   "mimetype": "text/x-python",
   "name": "python",
   "nbconvert_exporter": "python",
   "pygments_lexer": "ipython3",
   "version": "3.9.12"
  }
 },
 "nbformat": 4,
 "nbformat_minor": 5
}
