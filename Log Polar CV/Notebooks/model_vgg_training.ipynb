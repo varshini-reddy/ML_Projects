{
 "cells": [
  {
   "cell_type": "code",
   "execution_count": 1,
   "id": "0a0e835f",
   "metadata": {},
   "outputs": [],
   "source": [
    "import pandas as pd\n",
    "import numpy as np\n",
    "import pickle\n",
    "import re\n",
    "import os.path\n",
    "import sys\n",
    "import tensorflow as tf\n",
    "import tensorflow_addons as tfa\n",
    "import matplotlib.pyplot as plt\n",
    "import tensorflow_datasets as tfds\n",
    "from tensorflow.keras.layers import Conv2D, BatchNormalization, MaxPool2D, Dense, Flatten, Dropout\n",
    "from tensorflow.keras.layers import Input, Concatenate, InputLayer\n",
    "from tensorflow.keras.models import Sequential, Model\n",
    "from tensorflow.keras.preprocessing.image import ImageDataGenerator\n",
    "from tensorflow.keras.preprocessing import image\n",
    "from PIL import Image\n",
    "import warnings \n",
    "warnings.filterwarnings('always')\n",
    "# Helper code files\n",
    "from sklearn.metrics import accuracy_score, confusion_matrix\n",
    "sys.path.append('../')\n",
    "from Utils.utils import get_dataset, vgg_architecture, set_model_weights\n",
    "from tensorflow.keras.applications.vgg16 import preprocess_input\n",
    "from tensorflow.keras.optimizers import SGD\n"
   ]
  },
  {
   "cell_type": "code",
   "execution_count": 2,
   "id": "a3aa622b",
   "metadata": {},
   "outputs": [],
   "source": [
    "# Global Variables\n",
    "input_shape = (224, 224, 3)\n",
    "num_classes = 1000\n",
    "batch_size = 64\n"
   ]
  },
  {
   "cell_type": "code",
   "execution_count": 8,
   "id": "79af6873-e670-44b0-947d-6c51b8441c7d",
   "metadata": {},
   "outputs": [],
   "source": [
    "split = 0.99\n",
    "subset = 'validation'\n",
    "batch_size = 128\n",
    "random_seed = 10\n",
    "\n",
    "rotate_images = lambda input_images : tfa.image.rotate(input_images, fill_mode='constant',\n",
    "                                                       angles=np.random.choice([45, 90, 135]))\n",
    "\n",
    "shear_images = lambda input_images : image.random_shear(input_images, \n",
    "                                                                intensity=np.random.choice(np.linspace(10,800,8)),\n",
    "                                                                row_axis=0, col_axis=1, channel_axis=2,\n",
    "                                                                fill_mode='constant')\n",
    "\n",
    "translate_images = lambda input_images : image.apply_affine_transform(input_images, \n",
    "                                                                    tx = np.random.choice(range(10,100)),\n",
    "                                                                    ty = np.random.choice(range(10,100)),\n",
    "                                                                    fill_mode='constant')\n",
    "\n",
    "\n",
    "mixed_images = lambda input_images : image.apply_affine_transform(input_images, \n",
    "                                                                  theta = np.random.choice([45, 90, 135]),\n",
    "                                                                  tx = np.random.choice(range(10,100)),\n",
    "                                                                  ty = np.random.choice(range(10,100)),\n",
    "                                                                  shear = np.random.choice(np.linspace(10,800,8)),\n",
    "                                                                  row_axis=0, col_axis=1, channel_axis=2,\n",
    "                                                                  )\n",
    "\n",
    "    \n",
    "datagen1 = ImageDataGenerator(validation_split=split,\n",
    "                                  preprocessing_function=rotate_images)\n",
    "\n",
    "datagen2 = ImageDataGenerator(validation_split=split,\n",
    "                                  preprocessing_function=translate_images)\n",
    "\n",
    "datagen3 = ImageDataGenerator(validation_split=split,\n",
    "                                  preprocessing_function=shear_images)\n",
    "\n",
    "datagen4 = ImageDataGenerator(validation_split=split,\n",
    "                                  preprocessing_function=mixed_images)\n",
    "\n",
    "datagen5 = ImageDataGenerator(validation_split=split)\n",
    "    \n",
    "directory = \"/Users/varshini/Desktop/HARVARD/SPRING'22/MIT9.60-Human Vision/Project/Data/Image_Data\"\n"
   ]
  },
  {
   "cell_type": "code",
   "execution_count": 9,
   "id": "734519fe-08a8-422a-b5b3-d919e37d1de6",
   "metadata": {},
   "outputs": [
    {
     "name": "stdout",
     "output_type": "stream",
     "text": [
      "Found 49000 images belonging to 1000 classes.\n"
     ]
    }
   ],
   "source": [
    "# train_data1 = datagen1.flow_from_directory(\n",
    "#     directory,target_size=(224, 224),\n",
    "#     color_mode='rgb', class_mode='categorical',\n",
    "#     batch_size=batch_size, shuffle=True,\n",
    "#     seed=random_seed, subset=subset\n",
    "# )\n",
    "\n",
    "# train_data2 = datagen2.flow_from_directory(\n",
    "#     directory,target_size=(224, 224),\n",
    "#     color_mode='rgb', class_mode='categorical',\n",
    "#     batch_size=batch_size, shuffle=True,\n",
    "#     seed=random_seed, subset=subset\n",
    "# )\n",
    "\n",
    "# train_data3 = datagen3.flow_from_directory(\n",
    "#     directory,target_size=(224, 224),\n",
    "#     color_mode='rgb', class_mode='categorical',\n",
    "#     batch_size=batch_size, shuffle=True,\n",
    "#     seed=random_seed, subset=subset\n",
    "# )\n",
    "\n",
    "# train_data4 = datagen4.flow_from_directory(\n",
    "#     directory,target_size=(224, 224),\n",
    "#     color_mode='rgb', class_mode='categorical',\n",
    "#     batch_size=batch_size, shuffle=True,\n",
    "#     seed=random_seed, subset=subset\n",
    "# )\n",
    "\n",
    "train_data5 = datagen5.flow_from_directory(\n",
    "    directory,target_size=(224, 224),\n",
    "    color_mode='rgb', class_mode='categorical',\n",
    "    batch_size=batch_size, shuffle=True,\n",
    "    seed=random_seed, subset=subset\n",
    ")\n",
    "\n",
    "\n",
    "# x1 = train_data1.next()\n",
    "\n",
    "# for i in range(2):\n",
    "#     x2 = train_data2.next()\n",
    "    \n",
    "# for i in range(3):\n",
    "#     x3 = train_data3.next()\n",
    "    \n",
    "# for i in range(4):\n",
    "#     x4 = train_data4.next()\n",
    "    \n",
    "# for i in range(7):\n",
    "#     x5 = train_data5.next()\n",
    "    \n"
   ]
  },
  {
   "cell_type": "code",
   "execution_count": 13,
   "id": "e2f3fa44-65fe-4993-9dc6-c0aa1bfbffef",
   "metadata": {},
   "outputs": [],
   "source": [
    "model = tf.keras.applications.vgg16.VGG16(weights='imagenet', include_top=True)\n",
    "# model.compile(optimizer=SGD(learning_rate=0.0001, momentum=0.9), loss='categorical_crossentropy')\n",
    "\n",
    "# model.fit(train_data5, epochs=20, batch_size=50)\n"
   ]
  },
  {
   "cell_type": "code",
   "execution_count": 14,
   "id": "fd38b786-bdc1-4847-b054-f5f7977d1a61",
   "metadata": {},
   "outputs": [],
   "source": [
    "# model = tf.keras.applications.vgg16.VGG16(weights='imagenet', include_top=True)\n",
    "# model.compile(optimizer=SGD(learning_rate=0.0001, momentum=0.5), loss='categorical_crossentropy')\n",
    "# model.load_weights(\"Model Weights/vgg_weights.h5\")\n",
    "# model.fit(train_data5, epochs=20, batch_size=50)\n",
    "# model.save_weights(\"Model Weights/vgg_weights.h5\")\n",
    "\n"
   ]
  },
  {
   "cell_type": "code",
   "execution_count": null,
   "id": "47b6ccf6-7631-4db5-b1d0-b8e696366a15",
   "metadata": {},
   "outputs": [
    {
     "name": "stdout",
     "output_type": "stream",
     "text": [
      "Epoch 1/10\n"
     ]
    },
    {
     "name": "stderr",
     "output_type": "stream",
     "text": [
      "2022-05-06 17:06:09.992668: I tensorflow/core/grappler/optimizers/custom_graph_optimizer_registry.cc:113] Plugin optimizer for device_type GPU is enabled.\n"
     ]
    },
    {
     "name": "stdout",
     "output_type": "stream",
     "text": [
      "383/383 [==============================] - 1520s 4s/step - loss: 2.0255 - accuracy: 0.5476\n",
      "Epoch 2/10\n",
      "383/383 [==============================] - 1523s 4s/step - loss: 2.0040 - accuracy: 0.5520\n",
      "Epoch 3/10\n",
      "383/383 [==============================] - 1502s 4s/step - loss: 1.9638 - accuracy: 0.5621\n",
      "Epoch 4/10\n",
      "228/383 [================>.............] - ETA: 12:35 - loss: 1.8945 - accuracy: 0.5750"
     ]
    }
   ],
   "source": [
    "# model = tf.keras.applications.vgg16.VGG16(weights='imagenet', include_top=True)\n",
    "model.compile(optimizer=SGD(learning_rate=0.001, momentum=0.7), loss='categorical_crossentropy', metrics=['accuracy'])\n",
    "model.load_weights(\"Model Weights/vgg_weights.h5\")\n",
    "\n",
    "# model.fit(train_data1, epochs=10, batch_size=64)\n",
    "# model.save_weights(\"Model Weights/vgg_weights.h5\")\n",
    "\n",
    "# model.load_weights(\"Model Weights/vgg_weights.h5\")\n",
    "# model.fit(train_data2, epochs=10, batch_size=64)\n",
    "# model.save_weights(\"Model Weights/vgg_weights.h5\")\n",
    "\n",
    "# model.fit(train_data3, epochs=10, batch_size=64)\n",
    "# model.save_weights(\"Model Weights/vgg_weights.h5\")\n",
    "\n",
    "model.fit(train_data4, epochs=10, batch_size=64)\n",
    "model.save_weights(\"Model Weights/vgg_weights.h5\")\n"
   ]
  },
  {
   "cell_type": "code",
   "execution_count": null,
   "id": "98cdfed0-b4aa-4137-810d-74b283d724f2",
   "metadata": {},
   "outputs": [],
   "source": [
    "model.fit(train_data4, epochs=10, batch_size=64)\n",
    "model.save_weights(\"Model Weights/vgg_weights.h5\")\n"
   ]
  },
  {
   "cell_type": "code",
   "execution_count": null,
   "id": "d6a4b727-dc1a-453e-baf1-8a6d818c0c26",
   "metadata": {},
   "outputs": [],
   "source": []
  }
 ],
 "metadata": {
  "kernelspec": {
   "display_name": "ds",
   "language": "python",
   "name": "ds"
  },
  "language_info": {
   "codemirror_mode": {
    "name": "ipython",
    "version": 3
   },
   "file_extension": ".py",
   "mimetype": "text/x-python",
   "name": "python",
   "nbconvert_exporter": "python",
   "pygments_lexer": "ipython3",
   "version": "3.9.12"
  }
 },
 "nbformat": 4,
 "nbformat_minor": 5
}
