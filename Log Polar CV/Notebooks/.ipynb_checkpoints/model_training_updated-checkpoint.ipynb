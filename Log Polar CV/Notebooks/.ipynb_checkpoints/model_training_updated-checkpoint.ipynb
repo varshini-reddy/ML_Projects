{
 "cells": [
  {
   "cell_type": "code",
   "execution_count": null,
   "id": "0a0e835f",
   "metadata": {},
   "outputs": [],
   "source": [
    "import pandas as pd\n",
    "import numpy as np\n",
    "import pickle\n",
    "import re\n",
    "import os.path\n",
    "import cv2\n",
    "    \n",
    "import sys\n",
    "import tensorflow as tf\n",
    "from tensorflow.keras import backend as K\n",
    "import tensorflow_addons as tfa\n",
    "import matplotlib.pyplot as plt\n",
    "import tensorflow_datasets as tfds\n",
    "from tensorflow.keras.layers import Conv2D, BatchNormalization, MaxPool2D, Dense, Flatten, Dropout\n",
    "from tensorflow.keras.layers import Input, Concatenate, InputLayer\n",
    "from tensorflow.keras.models import Sequential, Model\n",
    "from tensorflow.keras.preprocessing.image import ImageDataGenerator\n",
    "import warnings \n",
    "warnings.filterwarnings('always')\n",
    "from skimage.transform import warp_polar, warp_coords\n",
    "# Helper code files\n",
    "import time\n",
    "sys.path.append('../')\n",
    "from Utils.utils import get_dataset, lp_architecture, set_model_weights\n",
    "from IPython.display import clear_output\n"
   ]
  },
  {
   "cell_type": "code",
   "execution_count": null,
   "id": "a3aa622b",
   "metadata": {},
   "outputs": [],
   "source": [
    "# Global Variables\n",
    "input_shape = (224, 224, 3)\n",
    "num_classes = 1000\n",
    "batch_size = 1\n"
   ]
  },
  {
   "cell_type": "code",
   "execution_count": null,
   "id": "f354f3e5-9021-419d-8fc1-17081bb0bddd",
   "metadata": {
    "tags": []
   },
   "outputs": [],
   "source": [
    "input_layer, output_layer = lp_architecture()\n",
    "model = Model(inputs=input_layer, outputs=output_layer, name=\"LP_MODEL\")"
   ]
  },
  {
   "cell_type": "code",
   "execution_count": null,
   "id": "e28ca46b-0b08-4c1f-adc6-ef9de7e2a787",
   "metadata": {},
   "outputs": [],
   "source": [
    "model = set_model_weights(model, model_type=\"custom\", \n",
    "                          path=\"HARVARD/SPRING'22/MIT9.60-Human Vision/Project/Notebooks/Model Weights/model_weights.h5\")\n",
    "\n"
   ]
  },
  {
   "cell_type": "code",
   "execution_count": null,
   "id": "90e8553d-be05-494d-8056-6452d5ce310c",
   "metadata": {},
   "outputs": [],
   "source": [
    "# GRADIENT TAPE\n",
    "\n",
    "# Algorithm parameters\n",
    "loss_fn = tf.keras.losses.CategoricalCrossentropy()\n",
    "optimizer = tf.keras.optimizers.Adam(learning_rate=0.01)\n",
    "metrics = tf.keras.metrics.Accuracy()\n",
    "num_epochs = 30\n",
    "\n",
    "path=\"/Users/varshini/Desktop/HARVARD/SPRING'22/MIT9.60-Human Vision/Project/Data/Image_Data\"\n",
    "\n",
    "train_data = get_dataset(batch_size, False, path=path)\n",
    "\n",
    "# Since batch_size is 1, each epoch will see steps_per_epoch number of images\n",
    "steps_per_epoch = 128\n",
    "\n",
    "for i in range(num_epochs):\n",
    "    print(\"\\nEPOCH:\", i+1)\n",
    "    loss = 0\n",
    "    \n",
    "    for bs in range(steps_per_epoch):\n",
    "        if bs%49==0:\n",
    "            print(\"\\tBATCH NUMBER:\",bs+1)\n",
    "        try:\n",
    "            t1 = train_data.next()\n",
    "        except:\n",
    "            print(\"\\t\\tFresh Images\")\n",
    "            train_data = get_dataset(batch_size, False,path=path)\n",
    "            t1 = train_data.next()\n",
    "        \n",
    "        with tf.GradientTape() as tape:\n",
    "            output = model(t1[0])\n",
    "            loss+= loss_fn(t1[1], output)\n",
    "            \n",
    "    gradients = tape.gradient(loss, model.trainable_weights)\n",
    "    \n",
    "    optimizer.apply_gradients(zip(gradients, model.trainable_weights))    \n",
    "\n",
    "    model.save_weights(\"Model Weights/model_weights.h5\")\n",
    "\n",
    "    # clear_output(wait=True)\n",
    "    \n"
   ]
  }
 ],
 "metadata": {
  "kernelspec": {
   "display_name": "ds",
   "language": "python",
   "name": "ds"
  },
  "language_info": {
   "codemirror_mode": {
    "name": "ipython",
    "version": 3
   },
   "file_extension": ".py",
   "mimetype": "text/x-python",
   "name": "python",
   "nbconvert_exporter": "python",
   "pygments_lexer": "ipython3",
   "version": "3.9.12"
  }
 },
 "nbformat": 4,
 "nbformat_minor": 5
}
