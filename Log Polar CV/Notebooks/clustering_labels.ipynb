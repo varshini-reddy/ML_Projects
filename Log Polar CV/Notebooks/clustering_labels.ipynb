{
 "cells": [
  {
   "cell_type": "code",
   "execution_count": 22,
   "id": "0a0e835f",
   "metadata": {},
   "outputs": [],
   "source": [
    "import pandas as pd\n",
    "import numpy as np\n",
    "import pickle\n",
    "import re\n",
    "import os.path\n",
    "import sys\n",
    "import tensorflow as tf\n",
    "import tensorflow_addons as tfa\n",
    "import matplotlib.pyplot as plt\n",
    "import tensorflow_datasets as tfds\n",
    "from tensorflow.keras.layers import Conv2D, BatchNormalization, MaxPool2D, Dense, Flatten, Dropout\n",
    "from tensorflow.keras.layers import Input, Concatenate, InputLayer\n",
    "from tensorflow.keras.models import Sequential, Model\n",
    "from tensorflow.keras.preprocessing.image import ImageDataGenerator\n",
    "from tensorflow.keras.preprocessing import image\n",
    "from PIL import Image\n",
    "import json\n",
    "import warnings \n",
    "warnings.filterwarnings('always')\n",
    "# Helper code files\n",
    "from sklearn.metrics import accuracy_score, confusion_matrix\n",
    "sys.path.append('../')\n",
    "from Utils.utils import get_dataset, vgg_architecture, set_model_weights, lp_architecture\n",
    "from tensorflow.keras.applications.vgg16 import preprocess_input\n",
    "from tensorflow.keras.optimizers import SGD\n"
   ]
  },
  {
   "cell_type": "code",
   "execution_count": 124,
   "id": "b886054b-e004-43c9-a203-bc1360ba98f6",
   "metadata": {},
   "outputs": [
    {
     "name": "stderr",
     "output_type": "stream",
     "text": [
      "/var/folders/qm/vdkrz8pj6fs75xl6ks0r5wmc0000gn/T/ipykernel_40808/1743094295.py:4: ResourceWarning: unclosed file <_io.TextIOWrapper name='imagenet_label_mapping.json' mode='r' encoding='UTF-8'>\n",
      "  labels = json.load(open(\"imagenet_label_mapping.json\"))\n",
      "ResourceWarning: Enable tracemalloc to get the object allocation traceback\n",
      "/var/folders/qm/vdkrz8pj6fs75xl6ks0r5wmc0000gn/T/ipykernel_40808/1743094295.py:5: ResourceWarning: unclosed file <_io.TextIOWrapper name='clusters_25.json' mode='r' encoding='UTF-8'>\n",
      "  clusters = json.load(open(\"clusters_25.json\"))\n",
      "ResourceWarning: Enable tracemalloc to get the object allocation traceback\n"
     ]
    }
   ],
   "source": [
    "# Code to get clusters for each label\n",
    "\n",
    "\n",
    "labels = json.load(open(\"imagenet_label_mapping.json\"))\n",
    "clusters = json.load(open(\"clusters_25.json\"))\n",
    "\n",
    "updated_clusters = {}\n",
    "count = 0\n",
    "for key, value in clusters.items():\n",
    "    val = [i[:-5].lower().lstrip().rstrip().replace(\" \", \"_\") for i in value]\n",
    "    updated_clusters[count] = val\n",
    "    count+=1\n",
    "\n",
    "updated_labels = {}\n",
    "for key, value in labels.items():\n",
    "    value = [i.lstrip().rstrip().lower().replace(\" \", \"_\") for i in value.split(\",\")]\n",
    "    updated_labels[int(key)] = value\n",
    "del clusters, labels\n",
    "\n",
    "label_to_cluster = {}\n",
    "for key, value in updated_clusters.items():\n",
    "        for j in value:\n",
    "            for k, v in updated_labels.items():\n",
    "                # if j in v:\n",
    "                for val in v:\n",
    "                    sub = r'(\\w*%s\\w*)' % j\n",
    "                    if re.findall(sub, val):\n",
    "                        label_to_cluster[k] = key\n",
    "                        \n",
    "clus_list = [1,3,3,0,3,0,9,9,8,15,0,15,11,24,18,18,19,18,22,25,12,12,0,9,22,18,21,17,25,25,22,25,24,25,18,0,0,0]\n",
    "count = 0\n",
    "for i,label in enumerate(range(1000)):\n",
    "    if label not in label_to_cluster.keys():\n",
    "        label_to_cluster[label] = clus_list[count]\n",
    "        count+=1                   "
   ]
  },
  {
   "cell_type": "code",
   "execution_count": 126,
   "id": "d12309d1-4d33-43a5-996b-10a929994100",
   "metadata": {},
   "outputs": [],
   "source": [
    "clus_list = [1,3,3,0,3,0,9,9,8,15,0,15,11,24,18,18,19,18,22,25,12,12,0,9,22,18,21,17,25,25,22,25,24,25,18,0,0,0]\n",
    "count = 0\n",
    "for i,label in enumerate(range(1000)):\n",
    "    if label not in label_to_cluster.keys():\n",
    "        label_to_cluster[label] = clus_list[count]\n",
    "        count+=1"
   ]
  },
  {
   "cell_type": "code",
   "execution_count": 130,
   "id": "9d9813d0-f6af-492f-8e90-3ba65a17cc8c",
   "metadata": {},
   "outputs": [],
   "source": [
    "for i,j in label_to_cluster.items():\n",
    "    if j==2:\n",
    "        label_to_cluster[i]=1\n",
    "    elif j==10:\n",
    "        label_to_cluster[i]=9\n",
    "    elif j==6:\n",
    "        label_to_cluster[i]=5\n"
   ]
  },
  {
   "cell_type": "code",
   "execution_count": 139,
   "id": "fb433a45-8f3a-4005-ace6-5acbe8350028",
   "metadata": {},
   "outputs": [],
   "source": [
    "d = [0,1,3,4,5,7,8,9,11,12,13,14,15,16,17,18,19,20,21,22,23,24,25]\n",
    "temp_dict = {}\n",
    "count = 0\n",
    "for i in d:\n",
    "    temp_dict[i]=count\n",
    "    count+=1"
   ]
  },
  {
   "cell_type": "code",
   "execution_count": 140,
   "id": "e1a56310-8af5-42ea-8c04-b83e40cb804e",
   "metadata": {},
   "outputs": [],
   "source": [
    "for i,j in label_to_cluster.items():\n",
    "    label_to_cluster[i] = temp_dict[j]"
   ]
  },
  {
   "cell_type": "code",
   "execution_count": 144,
   "id": "397c7f2e-8656-4353-b49b-638619f31921",
   "metadata": {},
   "outputs": [],
   "source": [
    "import json\n",
    "with open('label_to_cluster_mapping.json', 'w') as fp:\n",
    "    json.dump(label_to_cluster, fp)\n",
    "    "
   ]
  },
  {
   "cell_type": "code",
   "execution_count": null,
   "id": "88486b38-169a-45d0-8c19-2fbb4ff0da65",
   "metadata": {},
   "outputs": [],
   "source": []
  }
 ],
 "metadata": {
  "kernelspec": {
   "display_name": "ds",
   "language": "python",
   "name": "ds"
  },
  "language_info": {
   "codemirror_mode": {
    "name": "ipython",
    "version": 3
   },
   "file_extension": ".py",
   "mimetype": "text/x-python",
   "name": "python",
   "nbconvert_exporter": "python",
   "pygments_lexer": "ipython3",
   "version": "3.9.12"
  }
 },
 "nbformat": 4,
 "nbformat_minor": 5
}
